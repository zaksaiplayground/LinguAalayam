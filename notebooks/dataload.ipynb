{
 "cells": [
  {
   "cell_type": "code",
   "execution_count": 1,
   "metadata": {},
   "outputs": [],
   "source": [
    "import pandas as pd\n",
    "import re"
   ]
  },
  {
   "cell_type": "code",
   "execution_count": 2,
   "metadata": {},
   "outputs": [],
   "source": [
    "data = pd.read_csv(\"../data/datuk/files/datuk\", sep='\\t')"
   ]
  },
  {
   "cell_type": "markdown",
   "metadata": {},
   "source": [
    "data"
   ]
  },
  {
   "cell_type": "code",
   "execution_count": 3,
   "metadata": {},
   "outputs": [
    {
     "data": {
      "text/html": [
       "<div>\n",
       "<style scoped>\n",
       "    .dataframe tbody tr th:only-of-type {\n",
       "        vertical-align: middle;\n",
       "    }\n",
       "\n",
       "    .dataframe tbody tr th {\n",
       "        vertical-align: top;\n",
       "    }\n",
       "\n",
       "    .dataframe thead th {\n",
       "        text-align: right;\n",
       "    }\n",
       "</style>\n",
       "<table border=\"1\" class=\"dataframe\">\n",
       "  <thead>\n",
       "    <tr style=\"text-align: right;\">\n",
       "      <th></th>\n",
       "      <th>from_content</th>\n",
       "      <th>types</th>\n",
       "      <th>to_content</th>\n",
       "    </tr>\n",
       "  </thead>\n",
       "  <tbody>\n",
       "    <tr>\n",
       "      <th>0</th>\n",
       "      <td>ംടക്കൻ</td>\n",
       "      <td>{നാ.}</td>\n",
       "      <td>കിടുമ്മൻ, വാതിലിലും മറ്റും തറയ്ക്കുന്ന കുറ്റിയ...</td>\n",
       "    </tr>\n",
       "    <tr>\n",
       "      <th>1</th>\n",
       "      <td>ംടക്കൻ</td>\n",
       "      <td>{നാ.}</td>\n",
       "      <td>മുടക്കുന്നത്</td>\n",
       "    </tr>\n",
       "    <tr>\n",
       "      <th>2</th>\n",
       "      <td>അ1</td>\n",
       "      <td>{}</td>\n",
       "      <td>ഒരു ചുട്ടെഴുത്ത്, ദൂരെയുള്ള ഒന്നിനെ നിർദ്ദേശിക...</td>\n",
       "    </tr>\n",
       "    <tr>\n",
       "      <th>3</th>\n",
       "      <td>അ1</td>\n",
       "      <td>{}</td>\n",
       "      <td>പേരെച്ചപ്രത്യയം. ഉദാ: ഒഴുകുന്ന, പറയുന്ന</td>\n",
       "    </tr>\n",
       "    <tr>\n",
       "      <th>4</th>\n",
       "      <td>അ1</td>\n",
       "      <td>{}</td>\n",
       "      <td>അക്ഷര മാലയിലെ ആദ്യത്തെ അക്ഷരം, ഹ്രസ്വസ്വരം, കണ...</td>\n",
       "    </tr>\n",
       "    <tr>\n",
       "      <th>...</th>\n",
       "      <td>...</td>\n",
       "      <td>...</td>\n",
       "      <td>...</td>\n",
       "    </tr>\n",
       "    <tr>\n",
       "      <th>148321</th>\n",
       "      <td>ഹർഷിത</td>\n",
       "      <td>{വി.}</td>\n",
       "      <td>ഹർഷിക്കപ്പെട്ട</td>\n",
       "    </tr>\n",
       "    <tr>\n",
       "      <th>148322</th>\n",
       "      <td>ഹർഷുളം</td>\n",
       "      <td>{നാ.}</td>\n",
       "      <td>മാൻ</td>\n",
       "    </tr>\n",
       "    <tr>\n",
       "      <th>148323</th>\n",
       "      <td>ഹർഷുളൻ</td>\n",
       "      <td>{നാ.}</td>\n",
       "      <td>കാമുകൻ</td>\n",
       "    </tr>\n",
       "    <tr>\n",
       "      <th>148324</th>\n",
       "      <td>ഹർഷൻ</td>\n",
       "      <td>{നാ.}</td>\n",
       "      <td>ഭാരതത്തിലെ ഒരു ചക്രവർത്തി</td>\n",
       "    </tr>\n",
       "    <tr>\n",
       "      <th>148325</th>\n",
       "      <td>ഹർഷൻ</td>\n",
       "      <td>{നാ.}</td>\n",
       "      <td>ശ്രീഹർഷൻ. \"നൈഷധീയ ചരിതം\" കാവ്യത്തിൻറെ കർത്താവ്</td>\n",
       "    </tr>\n",
       "  </tbody>\n",
       "</table>\n",
       "<p>148326 rows × 3 columns</p>\n",
       "</div>"
      ],
      "text/plain": [
       "       from_content  types                                         to_content\n",
       "0            ംടക്കൻ  {നാ.}  കിടുമ്മൻ, വാതിലിലും മറ്റും തറയ്ക്കുന്ന കുറ്റിയ...\n",
       "1            ംടക്കൻ  {നാ.}                                       മുടക്കുന്നത്\n",
       "2                അ1     {}  ഒരു ചുട്ടെഴുത്ത്, ദൂരെയുള്ള ഒന്നിനെ നിർദ്ദേശിക...\n",
       "3                അ1     {}            പേരെച്ചപ്രത്യയം. ഉദാ: ഒഴുകുന്ന, പറയുന്ന\n",
       "4                അ1     {}  അക്ഷര മാലയിലെ ആദ്യത്തെ അക്ഷരം, ഹ്രസ്വസ്വരം, കണ...\n",
       "...             ...    ...                                                ...\n",
       "148321        ഹർഷിത  {വി.}                                     ഹർഷിക്കപ്പെട്ട\n",
       "148322       ഹർഷുളം  {നാ.}                                                മാൻ\n",
       "148323       ഹർഷുളൻ  {നാ.}                                             കാമുകൻ\n",
       "148324         ഹർഷൻ  {നാ.}                          ഭാരതത്തിലെ ഒരു ചക്രവർത്തി\n",
       "148325         ഹർഷൻ  {നാ.}     ശ്രീഹർഷൻ. \"നൈഷധീയ ചരിതം\" കാവ്യത്തിൻറെ കർത്താവ്\n",
       "\n",
       "[148326 rows x 3 columns]"
      ]
     },
     "execution_count": 3,
     "metadata": {},
     "output_type": "execute_result"
    }
   ],
   "source": [
    "data"
   ]
  },
  {
   "cell_type": "code",
   "execution_count": 4,
   "metadata": {},
   "outputs": [],
   "source": [
    "def remove_invisible(text):\n",
    "    return re.sub(r'[\\x00-\\x1F\\x7F\\xAD]', '', text)\n",
    "\n",
    "\n",
    "formatted_data = []\n",
    "for idx, row in data.iterrows():\n",
    "    word = ''.join(i for i in row[\"from_content\"] if not i.isdigit())\n",
    "    word = remove_invisible(word)\n",
    "    for definition in row[\"to_content\"].split(\", \"):\n",
    "        formatted_data.append({\"word\": word, \"definition\":remove_invisible(definition)})"
   ]
  },
  {
   "cell_type": "code",
   "execution_count": 5,
   "metadata": {},
   "outputs": [],
   "source": [
    "docs = [f\"{entry['word']}: {entry['definition']}\" for entry in formatted_data]"
   ]
  },
  {
   "cell_type": "code",
   "execution_count": 6,
   "metadata": {},
   "outputs": [],
   "source": [
    "from langchain_huggingface.embeddings import HuggingFaceEmbeddings"
   ]
  },
  {
   "cell_type": "code",
   "execution_count": 7,
   "metadata": {},
   "outputs": [
    {
     "ename": "ModuleNotFoundError",
     "evalue": "No module named 'custom_st'",
     "output_type": "error",
     "traceback": [
      "\u001b[1;31m---------------------------------------------------------------------------\u001b[0m",
      "\u001b[1;31mModuleNotFoundError\u001b[0m                       Traceback (most recent call last)",
      "File \u001b[1;32mc:\\Users\\Sachin Nandakumar\\miniconda3\\envs\\lingua\\lib\\site-packages\\sentence_transformers\\util.py:1266\u001b[0m, in \u001b[0;36mimport_from_string\u001b[1;34m(dotted_path)\u001b[0m\n\u001b[0;32m   1265\u001b[0m \u001b[39mtry\u001b[39;00m:\n\u001b[1;32m-> 1266\u001b[0m     module \u001b[39m=\u001b[39m importlib\u001b[39m.\u001b[39;49mimport_module(dotted_path)\n\u001b[0;32m   1267\u001b[0m \u001b[39mexcept\u001b[39;00m \u001b[39mException\u001b[39;00m:\n",
      "File \u001b[1;32mc:\\Users\\Sachin Nandakumar\\miniconda3\\envs\\lingua\\lib\\importlib\\__init__.py:126\u001b[0m, in \u001b[0;36mimport_module\u001b[1;34m(name, package)\u001b[0m\n\u001b[0;32m    125\u001b[0m         level \u001b[39m+\u001b[39m\u001b[39m=\u001b[39m \u001b[39m1\u001b[39m\n\u001b[1;32m--> 126\u001b[0m \u001b[39mreturn\u001b[39;00m _bootstrap\u001b[39m.\u001b[39;49m_gcd_import(name[level:], package, level)\n",
      "File \u001b[1;32m<frozen importlib._bootstrap>:1050\u001b[0m, in \u001b[0;36m_gcd_import\u001b[1;34m(name, package, level)\u001b[0m\n",
      "File \u001b[1;32m<frozen importlib._bootstrap>:1027\u001b[0m, in \u001b[0;36m_find_and_load\u001b[1;34m(name, import_)\u001b[0m\n",
      "File \u001b[1;32m<frozen importlib._bootstrap>:992\u001b[0m, in \u001b[0;36m_find_and_load_unlocked\u001b[1;34m(name, import_)\u001b[0m\n",
      "File \u001b[1;32m<frozen importlib._bootstrap>:241\u001b[0m, in \u001b[0;36m_call_with_frames_removed\u001b[1;34m(f, *args, **kwds)\u001b[0m\n",
      "File \u001b[1;32m<frozen importlib._bootstrap>:1050\u001b[0m, in \u001b[0;36m_gcd_import\u001b[1;34m(name, package, level)\u001b[0m\n",
      "File \u001b[1;32m<frozen importlib._bootstrap>:1027\u001b[0m, in \u001b[0;36m_find_and_load\u001b[1;34m(name, import_)\u001b[0m\n",
      "File \u001b[1;32m<frozen importlib._bootstrap>:1004\u001b[0m, in \u001b[0;36m_find_and_load_unlocked\u001b[1;34m(name, import_)\u001b[0m\n",
      "\u001b[1;31mModuleNotFoundError\u001b[0m: No module named 'custom_st'",
      "\nDuring handling of the above exception, another exception occurred:\n",
      "\u001b[1;31mModuleNotFoundError\u001b[0m                       Traceback (most recent call last)",
      "Cell \u001b[1;32mIn[7], line 1\u001b[0m\n\u001b[1;32m----> 1\u001b[0m embeddings \u001b[38;5;241m=\u001b[39m \u001b[43mHuggingFaceEmbeddings\u001b[49m\u001b[43m(\u001b[49m\u001b[43mmodel_name\u001b[49m\u001b[38;5;241;43m=\u001b[39;49m\u001b[38;5;124;43m\"\u001b[39;49m\u001b[38;5;124;43mjinaai/jina-embeddings-v3\u001b[39;49m\u001b[38;5;124;43m\"\u001b[39;49m\u001b[43m)\u001b[49m\n",
      "File \u001b[1;32mc:\\Users\\Sachin Nandakumar\\miniconda3\\envs\\lingua\\lib\\site-packages\\langchain_huggingface\\embeddings\\huggingface.py:59\u001b[0m, in \u001b[0;36mHuggingFaceEmbeddings.__init__\u001b[1;34m(self, **kwargs)\u001b[0m\n\u001b[0;32m     53\u001b[0m \u001b[39mexcept\u001b[39;00m \u001b[39mImportError\u001b[39;00m \u001b[39mas\u001b[39;00m exc:\n\u001b[0;32m     54\u001b[0m     \u001b[39mraise\u001b[39;00m \u001b[39mImportError\u001b[39;00m(\n\u001b[0;32m     55\u001b[0m         \u001b[39m\"\u001b[39m\u001b[39mCould not import sentence_transformers python package. \u001b[39m\u001b[39m\"\u001b[39m\n\u001b[0;32m     56\u001b[0m         \u001b[39m\"\u001b[39m\u001b[39mPlease install it with `pip install sentence-transformers`.\u001b[39m\u001b[39m\"\u001b[39m\n\u001b[0;32m     57\u001b[0m     ) \u001b[39mfrom\u001b[39;00m\u001b[39m \u001b[39m\u001b[39mexc\u001b[39;00m\n\u001b[1;32m---> 59\u001b[0m \u001b[39mself\u001b[39m\u001b[39m.\u001b[39m_client \u001b[39m=\u001b[39m sentence_transformers\u001b[39m.\u001b[39mSentenceTransformer(\n\u001b[0;32m     60\u001b[0m     \u001b[39mself\u001b[39m\u001b[39m.\u001b[39mmodel_name, cache_folder\u001b[39m=\u001b[39m\u001b[39mself\u001b[39m\u001b[39m.\u001b[39mcache_folder, \u001b[39m*\u001b[39m\u001b[39m*\u001b[39m\u001b[39mself\u001b[39m\u001b[39m.\u001b[39mmodel_kwargs\n\u001b[0;32m     61\u001b[0m )\n",
      "File \u001b[1;32mc:\\Users\\Sachin Nandakumar\\miniconda3\\envs\\lingua\\lib\\site-packages\\sentence_transformers\\SentenceTransformer.py:309\u001b[0m, in \u001b[0;36mSentenceTransformer.__init__\u001b[1;34m(self, model_name_or_path, modules, device, prompts, default_prompt_name, similarity_fn_name, cache_folder, trust_remote_code, revision, local_files_only, token, use_auth_token, truncate_dim, model_kwargs, tokenizer_kwargs, config_kwargs, model_card_data, backend)\u001b[0m\n\u001b[0;32m    300\u001b[0m         model_name_or_path \u001b[39m=\u001b[39m __MODEL_HUB_ORGANIZATION__ \u001b[39m+\u001b[39m \u001b[39m\"\u001b[39m\u001b[39m/\u001b[39m\u001b[39m\"\u001b[39m \u001b[39m+\u001b[39m model_name_or_path\n\u001b[0;32m    302\u001b[0m \u001b[39mif\u001b[39;00m is_sentence_transformer_model(\n\u001b[0;32m    303\u001b[0m     model_name_or_path,\n\u001b[0;32m    304\u001b[0m     token,\n\u001b[1;32m   (...)\u001b[0m\n\u001b[0;32m    307\u001b[0m     local_files_only\u001b[39m=\u001b[39mlocal_files_only,\n\u001b[0;32m    308\u001b[0m ):\n\u001b[1;32m--> 309\u001b[0m     modules, \u001b[39mself\u001b[39m\u001b[39m.\u001b[39mmodule_kwargs \u001b[39m=\u001b[39m \u001b[39mself\u001b[39;49m\u001b[39m.\u001b[39;49m_load_sbert_model(\n\u001b[0;32m    310\u001b[0m         model_name_or_path,\n\u001b[0;32m    311\u001b[0m         token\u001b[39m=\u001b[39;49mtoken,\n\u001b[0;32m    312\u001b[0m         cache_folder\u001b[39m=\u001b[39;49mcache_folder,\n\u001b[0;32m    313\u001b[0m         revision\u001b[39m=\u001b[39;49mrevision,\n\u001b[0;32m    314\u001b[0m         trust_remote_code\u001b[39m=\u001b[39;49mtrust_remote_code,\n\u001b[0;32m    315\u001b[0m         local_files_only\u001b[39m=\u001b[39;49mlocal_files_only,\n\u001b[0;32m    316\u001b[0m         model_kwargs\u001b[39m=\u001b[39;49mmodel_kwargs,\n\u001b[0;32m    317\u001b[0m         tokenizer_kwargs\u001b[39m=\u001b[39;49mtokenizer_kwargs,\n\u001b[0;32m    318\u001b[0m         config_kwargs\u001b[39m=\u001b[39;49mconfig_kwargs,\n\u001b[0;32m    319\u001b[0m     )\n\u001b[0;32m    320\u001b[0m \u001b[39melse\u001b[39;00m:\n\u001b[0;32m    321\u001b[0m     modules \u001b[39m=\u001b[39m \u001b[39mself\u001b[39m\u001b[39m.\u001b[39m_load_auto_model(\n\u001b[0;32m    322\u001b[0m         model_name_or_path,\n\u001b[0;32m    323\u001b[0m         token\u001b[39m=\u001b[39mtoken,\n\u001b[1;32m   (...)\u001b[0m\n\u001b[0;32m    330\u001b[0m         config_kwargs\u001b[39m=\u001b[39mconfig_kwargs,\n\u001b[0;32m    331\u001b[0m     )\n",
      "File \u001b[1;32mc:\\Users\\Sachin Nandakumar\\miniconda3\\envs\\lingua\\lib\\site-packages\\sentence_transformers\\SentenceTransformer.py:1741\u001b[0m, in \u001b[0;36mSentenceTransformer._load_sbert_model\u001b[1;34m(self, model_name_or_path, token, cache_folder, revision, trust_remote_code, local_files_only, model_kwargs, tokenizer_kwargs, config_kwargs)\u001b[0m\n\u001b[0;32m   1739\u001b[0m \u001b[39mfor\u001b[39;00m module_config \u001b[39min\u001b[39;00m modules_config:\n\u001b[0;32m   1740\u001b[0m     class_ref \u001b[39m=\u001b[39m module_config[\u001b[39m\"\u001b[39m\u001b[39mtype\u001b[39m\u001b[39m\"\u001b[39m]\n\u001b[1;32m-> 1741\u001b[0m     module_class \u001b[39m=\u001b[39m \u001b[39mself\u001b[39;49m\u001b[39m.\u001b[39;49m_load_module_class_from_ref(\n\u001b[0;32m   1742\u001b[0m         class_ref, model_name_or_path, trust_remote_code, revision, model_kwargs\n\u001b[0;32m   1743\u001b[0m     )\n\u001b[0;32m   1745\u001b[0m     \u001b[39m# For Transformer, don't load the full directory, rely on `transformers` instead\u001b[39;00m\n\u001b[0;32m   1746\u001b[0m     \u001b[39m# But, do load the config file first.\u001b[39;00m\n\u001b[0;32m   1747\u001b[0m     \u001b[39mif\u001b[39;00m module_config[\u001b[39m\"\u001b[39m\u001b[39mpath\u001b[39m\u001b[39m\"\u001b[39m] \u001b[39m==\u001b[39m \u001b[39m\"\u001b[39m\u001b[39m\"\u001b[39m:\n",
      "File \u001b[1;32mc:\\Users\\Sachin Nandakumar\\miniconda3\\envs\\lingua\\lib\\site-packages\\sentence_transformers\\SentenceTransformer.py:1645\u001b[0m, in \u001b[0;36mSentenceTransformer._load_module_class_from_ref\u001b[1;34m(self, class_ref, model_name_or_path, trust_remote_code, revision, model_kwargs)\u001b[0m\n\u001b[0;32m   1641\u001b[0m     \u001b[39mexcept\u001b[39;00m (\u001b[39mOSError\u001b[39;00m, \u001b[39mValueError\u001b[39;00m):\n\u001b[0;32m   1642\u001b[0m         \u001b[39m# Ignore the error if 1) the file does not exist, or 2) the class_ref is not correctly formatted/found\u001b[39;00m\n\u001b[0;32m   1643\u001b[0m         \u001b[39mpass\u001b[39;00m\n\u001b[1;32m-> 1645\u001b[0m \u001b[39mreturn\u001b[39;00m import_from_string(class_ref)\n",
      "File \u001b[1;32mc:\\Users\\Sachin Nandakumar\\miniconda3\\envs\\lingua\\lib\\site-packages\\sentence_transformers\\util.py:1268\u001b[0m, in \u001b[0;36mimport_from_string\u001b[1;34m(dotted_path)\u001b[0m\n\u001b[0;32m   1266\u001b[0m     module \u001b[39m=\u001b[39m importlib\u001b[39m.\u001b[39mimport_module(dotted_path)\n\u001b[0;32m   1267\u001b[0m \u001b[39mexcept\u001b[39;00m \u001b[39mException\u001b[39;00m:\n\u001b[1;32m-> 1268\u001b[0m     module \u001b[39m=\u001b[39m importlib\u001b[39m.\u001b[39;49mimport_module(module_path)\n\u001b[0;32m   1270\u001b[0m \u001b[39mtry\u001b[39;00m:\n\u001b[0;32m   1271\u001b[0m     \u001b[39mreturn\u001b[39;00m \u001b[39mgetattr\u001b[39m(module, class_name)\n",
      "File \u001b[1;32mc:\\Users\\Sachin Nandakumar\\miniconda3\\envs\\lingua\\lib\\importlib\\__init__.py:126\u001b[0m, in \u001b[0;36mimport_module\u001b[1;34m(name, package)\u001b[0m\n\u001b[0;32m    124\u001b[0m             \u001b[39mbreak\u001b[39;00m\n\u001b[0;32m    125\u001b[0m         level \u001b[39m+\u001b[39m\u001b[39m=\u001b[39m \u001b[39m1\u001b[39m\n\u001b[1;32m--> 126\u001b[0m \u001b[39mreturn\u001b[39;00m _bootstrap\u001b[39m.\u001b[39;49m_gcd_import(name[level:], package, level)\n",
      "File \u001b[1;32m<frozen importlib._bootstrap>:1050\u001b[0m, in \u001b[0;36m_gcd_import\u001b[1;34m(name, package, level)\u001b[0m\n",
      "File \u001b[1;32m<frozen importlib._bootstrap>:1027\u001b[0m, in \u001b[0;36m_find_and_load\u001b[1;34m(name, import_)\u001b[0m\n",
      "File \u001b[1;32m<frozen importlib._bootstrap>:1004\u001b[0m, in \u001b[0;36m_find_and_load_unlocked\u001b[1;34m(name, import_)\u001b[0m\n",
      "\u001b[1;31mModuleNotFoundError\u001b[0m: No module named 'custom_st'"
     ]
    }
   ],
   "source": [
    "embeddings = HuggingFaceEmbeddings(model_name=\"jinaai/jina-embeddings-v3\")"
   ]
  }
 ],
 "metadata": {
  "kernelspec": {
   "display_name": "Python 3.10.16 ('lingua')",
   "language": "python",
   "name": "python3"
  },
  "language_info": {
   "codemirror_mode": {
    "name": "ipython",
    "version": 3
   },
   "file_extension": ".py",
   "mimetype": "text/x-python",
   "name": "python",
   "nbconvert_exporter": "python",
   "pygments_lexer": "ipython3",
   "version": "3.10.16"
  },
  "orig_nbformat": 4,
  "vscode": {
   "interpreter": {
    "hash": "10524f90dd253f74a1a5a25a7516efdd39dc6d1dc779f8c024e57dc4aee896e3"
   }
  }
 },
 "nbformat": 4,
 "nbformat_minor": 2
}
